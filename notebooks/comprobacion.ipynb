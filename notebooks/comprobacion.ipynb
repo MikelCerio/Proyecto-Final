{
 "cells": [
  {
   "cell_type": "code",
   "execution_count": 1,
   "metadata": {},
   "outputs": [
    {
     "name": "stdout",
     "output_type": "stream",
     "text": [
      "Directorio de trabajo actual: c:\\Users\\esetx\\proyecto final\\Proyecto-Final\\notebooks\n",
      "Ruta absoluta del archivo de entrada: c:\\Users\\esetx\\proyecto final\\Proyecto-Final\\data\\raw\\online_shoppers_intention.csv\n",
      "¿El archivo de entrada existe?: True\n"
     ]
    }
   ],
   "source": [
    "import os\n",
    "\n",
    "# Asumiendo que ya has definido input_file_path en otra celda\n",
    "input_file_path = os.path.join('..', 'data', 'raw', 'online_shoppers_intention.csv')\n",
    "\n",
    "print(\"Directorio de trabajo actual:\", os.getcwd())\n",
    "print(\"Ruta absoluta del archivo de entrada:\", os.path.abspath(input_file_path))\n",
    "print(\"¿El archivo de entrada existe?:\", os.path.exists(input_file_path))"
   ]
  }
 ],
 "metadata": {
  "kernelspec": {
   "display_name": "mikel312",
   "language": "python",
   "name": "python3"
  },
  "language_info": {
   "codemirror_mode": {
    "name": "ipython",
    "version": 3
   },
   "file_extension": ".py",
   "mimetype": "text/x-python",
   "name": "python",
   "nbconvert_exporter": "python",
   "pygments_lexer": "ipython3",
   "version": "3.12.3"
  }
 },
 "nbformat": 4,
 "nbformat_minor": 2
}
