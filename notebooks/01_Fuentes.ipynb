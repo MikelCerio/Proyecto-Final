{
 "cells": [
  {
   "cell_type": "code",
   "execution_count": 1,
   "metadata": {},
   "outputs": [
    {
     "name": "stdout",
     "output_type": "stream",
     "text": [
      "Archivos de train y test guardados en:\n",
      "..\\data\\processed\\train.csv\n",
      "..\\data\\processed\\test.csv\n"
     ]
    },
    {
     "ename": "ImportError",
     "evalue": "cannot import name 'load_data' from 'data_processing' (c:\\Users\\esetx\\proyecto final\\Proyecto-Final\\src\\data_processing.py)",
     "output_type": "error",
     "traceback": [
      "\u001b[1;31m---------------------------------------------------------------------------\u001b[0m",
      "\u001b[1;31mImportError\u001b[0m                               Traceback (most recent call last)",
      "Cell \u001b[1;32mIn[1], line 17\u001b[0m\n\u001b[0;32m     14\u001b[0m sys\u001b[38;5;241m.\u001b[39mpath\u001b[38;5;241m.\u001b[39minsert(\u001b[38;5;241m0\u001b[39m, os\u001b[38;5;241m.\u001b[39mpath\u001b[38;5;241m.\u001b[39mabspath(\u001b[38;5;124m'\u001b[39m\u001b[38;5;124m../src\u001b[39m\u001b[38;5;124m'\u001b[39m))\n\u001b[0;32m     16\u001b[0m \u001b[38;5;66;03m# Ahora puedes importar tus módulos\u001b[39;00m\n\u001b[1;32m---> 17\u001b[0m \u001b[38;5;28;01mfrom\u001b[39;00m \u001b[38;5;21;01mdata_processing\u001b[39;00m \u001b[38;5;28;01mimport\u001b[39;00m load_data\n\u001b[0;32m     19\u001b[0m \u001b[38;5;66;03m# Ignorar advertencias específicas\u001b[39;00m\n\u001b[0;32m     20\u001b[0m warnings\u001b[38;5;241m.\u001b[39mfilterwarnings(\u001b[38;5;124m\"\u001b[39m\u001b[38;5;124mignore\u001b[39m\u001b[38;5;124m\"\u001b[39m, category\u001b[38;5;241m=\u001b[39m\u001b[38;5;167;01mUserWarning\u001b[39;00m)\n",
      "\u001b[1;31mImportError\u001b[0m: cannot import name 'load_data' from 'data_processing' (c:\\Users\\esetx\\proyecto final\\Proyecto-Final\\src\\data_processing.py)"
     ]
    }
   ],
   "source": [
    "\n",
    "# # 1. Fuentes de Datos\n",
    "\n",
    "\n",
    "# Importamos las bibliotecas necesarias y cargamos los datos.\n",
    "\n",
    "# %%\n",
    "import pandas as pd\n",
    "import numpy as np\n",
    "import warnings\n",
    "import os\n",
    "import sys\n",
    "\n",
    "# Añadir la carpeta `src` al path\n",
    "sys.path.insert(0, os.path.abspath('../src'))\n",
    "\n",
    "# Ahora puedes importar tus módulos\n",
    "from data_processing import load_data\n",
    "\n",
    "# Ignorar advertencias específicas\n",
    "warnings.filterwarnings(\"ignore\", category=UserWarning)\n",
    "warnings.filterwarnings(\"ignore\", category=FutureWarning)\n",
    "\n",
    "# Cargar los datos\n",
    "clientes = pd.read_csv(\"../data/raw/online_shoppers_intention.csv\")\n",
    "\n",
    "# %% [markdown]\n",
    "# Realizamos el preprocesamiento inicial de los datos.\n",
    "\n",
    "# %%\n",
    "# Preprocesamiento de datos\n",
    "meses_dict = {\"Feb\": 1, \"Mar\": 2, \"May\": 3, \"June\": 4, \"Jul\": 5, \"Aug\": 6, \"Sep\": 7, \"Oct\": 8, \"Nov\": 9, \"Dec\": 10}\n",
    "clientes[\"Mes_Num\"] = clientes[\"Month\"].map(meses_dict)\n",
    "clientes.drop(columns=['Month'], inplace=True)\n",
    "clientes['Weekend'] = clientes['Weekend'].astype(int)\n",
    "clientes['Revenue'] = clientes['Revenue'].astype(int)\n",
    "clientes_new = pd.get_dummies(clientes, columns=['VisitorType'], dtype=int)\n",
    "\n",
    "\n",
    "# Guardamos los datos preprocesados para su uso posterior.\n",
    "\n",
    "# %%\n",
    "clientes_new.to_csv(\"../data/processed/clientes_preprocesados.csv\", index=False)\n",
    "\n",
    "\n",
    "# Mostramos información básica sobre los datos.\n",
    "\n",
    "# \n",
    "print(clientes_new.info())\n",
    "print(\"\\nColumnas del dataset:\")\n",
    "print(clientes_new.columns)"
   ]
  }
 ],
 "metadata": {
  "kernelspec": {
   "display_name": "base",
   "language": "python",
   "name": "python3"
  },
  "language_info": {
   "codemirror_mode": {
    "name": "ipython",
    "version": 3
   },
   "file_extension": ".py",
   "mimetype": "text/x-python",
   "name": "python",
   "nbconvert_exporter": "python",
   "pygments_lexer": "ipython3",
   "version": "3.11.7"
  }
 },
 "nbformat": 4,
 "nbformat_minor": 2
}
